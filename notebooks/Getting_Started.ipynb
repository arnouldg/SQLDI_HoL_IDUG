{
 "cells": [
  {
   "attachments": {},
   "cell_type": "markdown",
   "metadata": {},
   "source": [
    "# Notebook to Test Db2 Access"
   ]
  },
  {
   "attachments": {},
   "cell_type": "markdown",
   "metadata": {},
   "source": [
    "![TestImage](img/GS01.JPG)"
   ]
  },
  {
   "cell_type": "code",
   "execution_count": 13,
   "metadata": {},
   "outputs": [
    {
     "name": "stdout",
     "output_type": "stream",
     "text": [
      "Requirement already satisfied: ipython-sql==0.4.1 in c:\\programdata\\anaconda3\\envs\\cw01\\lib\\site-packages (0.4.1)\n",
      "Requirement already satisfied: ibm_db in c:\\programdata\\anaconda3\\envs\\cw01\\lib\\site-packages (3.1.4)\n",
      "Requirement already satisfied: sqlalchemy==1.4.47 in c:\\programdata\\anaconda3\\envs\\cw01\\lib\\site-packages (1.4.47)\n",
      "Requirement already satisfied: ibm_db_sa in c:\\programdata\\anaconda3\\envs\\cw01\\lib\\site-packages (0.3.9)\n",
      "Requirement already satisfied: prettytable<1 in c:\\programdata\\anaconda3\\envs\\cw01\\lib\\site-packages (from ipython-sql==0.4.1) (0.7.2)\n",
      "Requirement already satisfied: ipython>=1.0 in c:\\programdata\\anaconda3\\envs\\cw01\\lib\\site-packages (from ipython-sql==0.4.1) (8.12.0)\n",
      "Requirement already satisfied: sqlparse in c:\\programdata\\anaconda3\\envs\\cw01\\lib\\site-packages (from ipython-sql==0.4.1) (0.4.3)\n",
      "Requirement already satisfied: six in c:\\programdata\\anaconda3\\envs\\cw01\\lib\\site-packages (from ipython-sql==0.4.1) (1.16.0)\n",
      "Requirement already satisfied: ipython-genutils>=0.1.0 in c:\\programdata\\anaconda3\\envs\\cw01\\lib\\site-packages (from ipython-sql==0.4.1) (0.2.0)\n",
      "Requirement already satisfied: greenlet!=0.4.17 in c:\\programdata\\anaconda3\\envs\\cw01\\lib\\site-packages (from sqlalchemy==1.4.47) (2.0.2)\n",
      "Requirement already satisfied: backcall in c:\\programdata\\anaconda3\\envs\\cw01\\lib\\site-packages (from ipython>=1.0->ipython-sql==0.4.1) (0.2.0)\n",
      "Requirement already satisfied: decorator in c:\\programdata\\anaconda3\\envs\\cw01\\lib\\site-packages (from ipython>=1.0->ipython-sql==0.4.1) (5.1.1)\n",
      "Requirement already satisfied: jedi>=0.16 in c:\\programdata\\anaconda3\\envs\\cw01\\lib\\site-packages (from ipython>=1.0->ipython-sql==0.4.1) (0.18.2)\n",
      "Requirement already satisfied: matplotlib-inline in c:\\programdata\\anaconda3\\envs\\cw01\\lib\\site-packages (from ipython>=1.0->ipython-sql==0.4.1) (0.1.6)\n",
      "Requirement already satisfied: pickleshare in c:\\programdata\\anaconda3\\envs\\cw01\\lib\\site-packages (from ipython>=1.0->ipython-sql==0.4.1) (0.7.5)\n",
      "Requirement already satisfied: prompt-toolkit!=3.0.37,<3.1.0,>=3.0.30 in c:\\programdata\\anaconda3\\envs\\cw01\\lib\\site-packages (from ipython>=1.0->ipython-sql==0.4.1) (3.0.38)\n",
      "Requirement already satisfied: pygments>=2.4.0 in c:\\programdata\\anaconda3\\envs\\cw01\\lib\\site-packages (from ipython>=1.0->ipython-sql==0.4.1) (2.15.0)\n",
      "Requirement already satisfied: stack-data in c:\\programdata\\anaconda3\\envs\\cw01\\lib\\site-packages (from ipython>=1.0->ipython-sql==0.4.1) (0.6.2)\n",
      "Requirement already satisfied: traitlets>=5 in c:\\programdata\\anaconda3\\envs\\cw01\\lib\\site-packages (from ipython>=1.0->ipython-sql==0.4.1) (5.9.0)\n",
      "Requirement already satisfied: colorama in c:\\programdata\\anaconda3\\envs\\cw01\\lib\\site-packages (from ipython>=1.0->ipython-sql==0.4.1) (0.4.6)\n",
      "Requirement already satisfied: parso<0.9.0,>=0.8.0 in c:\\programdata\\anaconda3\\envs\\cw01\\lib\\site-packages (from jedi>=0.16->ipython>=1.0->ipython-sql==0.4.1) (0.8.3)\n",
      "Requirement already satisfied: wcwidth in c:\\programdata\\anaconda3\\envs\\cw01\\lib\\site-packages (from prompt-toolkit!=3.0.37,<3.1.0,>=3.0.30->ipython>=1.0->ipython-sql==0.4.1) (0.2.6)\n",
      "Requirement already satisfied: executing>=1.2.0 in c:\\programdata\\anaconda3\\envs\\cw01\\lib\\site-packages (from stack-data->ipython>=1.0->ipython-sql==0.4.1) (1.2.0)\n",
      "Requirement already satisfied: asttokens>=2.1.0 in c:\\programdata\\anaconda3\\envs\\cw01\\lib\\site-packages (from stack-data->ipython>=1.0->ipython-sql==0.4.1) (2.2.1)\n",
      "Requirement already satisfied: pure-eval in c:\\programdata\\anaconda3\\envs\\cw01\\lib\\site-packages (from stack-data->ipython>=1.0->ipython-sql==0.4.1) (0.2.2)\n",
      "Note: you may need to restart the kernel to use updated packages.\n"
     ]
    }
   ],
   "source": [
    "pip install ipython-sql==0.4.1 ibm_db sqlalchemy==1.4.47 ibm_db_sa"
   ]
  },
  {
   "cell_type": "code",
   "execution_count": 15,
   "metadata": {},
   "outputs": [],
   "source": [
    "import sys,os,os.path\n",
    "os.environ['IBM_DB_HOME']='C:\\Program Files\\IBM\\SQLLIB'"
   ]
  },
  {
   "cell_type": "code",
   "execution_count": 16,
   "metadata": {},
   "outputs": [],
   "source": [
    "import ibm_db \n",
    "import ibm_db_sa \n",
    "import sqlalchemy "
   ]
  },
  {
   "cell_type": "code",
   "execution_count": 17,
   "metadata": {},
   "outputs": [
    {
     "name": "stdout",
     "output_type": "stream",
     "text": [
      "The sql extension is already loaded. To reload it, use:\n",
      "  %reload_ext sql\n"
     ]
    }
   ],
   "source": [
    "%load_ext sql"
   ]
  },
  {
   "cell_type": "code",
   "execution_count": 18,
   "metadata": {},
   "outputs": [],
   "source": [
    "%sql ibm_db_sa://IBMUSER:SYS1@wg31.washington.ibm.com:5045/DALLASD"
   ]
  },
  {
   "cell_type": "code",
   "execution_count": 19,
   "metadata": {},
   "outputs": [
    {
     "name": "stdout",
     "output_type": "stream",
     "text": [
      " * ibm_db_sa://IBMUSER:***@wg31.washington.ibm.com:5045/DALLASD\n",
      "Done.\n"
     ]
    },
    {
     "data": {
      "text/html": [
       "<table>\n",
       "    <tr>\n",
       "        <th>deptnumb</th>\n",
       "        <th>deptname</th>\n",
       "        <th>manager</th>\n",
       "        <th>division</th>\n",
       "        <th>location</th>\n",
       "    </tr>\n",
       "    <tr>\n",
       "        <td>10</td>\n",
       "        <td>HEAD OFFICE</td>\n",
       "        <td>160</td>\n",
       "        <td>CORPORATE</td>\n",
       "        <td>NEW YORK</td>\n",
       "    </tr>\n",
       "    <tr>\n",
       "        <td>15</td>\n",
       "        <td>NEW ENGLAND</td>\n",
       "        <td>50</td>\n",
       "        <td>EASTERN</td>\n",
       "        <td>BOSTON</td>\n",
       "    </tr>\n",
       "    <tr>\n",
       "        <td>20</td>\n",
       "        <td>MID ATLANTIC</td>\n",
       "        <td>10</td>\n",
       "        <td>EASTERN</td>\n",
       "        <td>WASHINGTON</td>\n",
       "    </tr>\n",
       "    <tr>\n",
       "        <td>38</td>\n",
       "        <td>SOUTH ATLANTIC</td>\n",
       "        <td>30</td>\n",
       "        <td>EASTERN</td>\n",
       "        <td>ATLANTA</td>\n",
       "    </tr>\n",
       "    <tr>\n",
       "        <td>42</td>\n",
       "        <td>GREAT LAKES</td>\n",
       "        <td>100</td>\n",
       "        <td>MIDWEST</td>\n",
       "        <td>CHICAGO</td>\n",
       "    </tr>\n",
       "    <tr>\n",
       "        <td>51</td>\n",
       "        <td>PLAINS</td>\n",
       "        <td>140</td>\n",
       "        <td>MIDWEST</td>\n",
       "        <td>DALLAS</td>\n",
       "    </tr>\n",
       "    <tr>\n",
       "        <td>66</td>\n",
       "        <td>PACIFIC</td>\n",
       "        <td>270</td>\n",
       "        <td>WESTERN</td>\n",
       "        <td>SAN FRANCISCO</td>\n",
       "    </tr>\n",
       "    <tr>\n",
       "        <td>84</td>\n",
       "        <td>MOUNTAIN</td>\n",
       "        <td>290</td>\n",
       "        <td>WESTERN</td>\n",
       "        <td>DENVER</td>\n",
       "    </tr>\n",
       "</table>"
      ],
      "text/plain": [
       "[(10, 'HEAD OFFICE', 160, 'CORPORATE', 'NEW YORK'),\n",
       " (15, 'NEW ENGLAND', 50, 'EASTERN', 'BOSTON'),\n",
       " (20, 'MID ATLANTIC', 10, 'EASTERN', 'WASHINGTON'),\n",
       " (38, 'SOUTH ATLANTIC', 30, 'EASTERN', 'ATLANTA'),\n",
       " (42, 'GREAT LAKES', 100, 'MIDWEST', 'CHICAGO'),\n",
       " (51, 'PLAINS', 140, 'MIDWEST', 'DALLAS'),\n",
       " (66, 'PACIFIC', 270, 'WESTERN', 'SAN FRANCISCO'),\n",
       " (84, 'MOUNTAIN', 290, 'WESTERN', 'DENVER')]"
      ]
     },
     "execution_count": 19,
     "metadata": {},
     "output_type": "execute_result"
    }
   ],
   "source": [
    "%sql select * from q.org"
   ]
  },
  {
   "cell_type": "code",
   "execution_count": null,
   "metadata": {},
   "outputs": [],
   "source": [
    "%sql select * from credit.txns where is_fraud = 'Yes' fetch first 10 rows only "
   ]
  },
  {
   "cell_type": "code",
   "execution_count": null,
   "metadata": {},
   "outputs": [],
   "source": [
    "%sql select tbcreator, tbname, colno, name from sysibm.syscolumns where tbcreator = 'CREDIT' order by tbname, colno asc"
   ]
  }
 ],
 "metadata": {
  "kernelspec": {
   "display_name": "cw01",
   "language": "python",
   "name": "python3"
  },
  "language_info": {
   "codemirror_mode": {
    "name": "ipython",
    "version": 3
   },
   "file_extension": ".py",
   "mimetype": "text/x-python",
   "name": "python",
   "nbconvert_exporter": "python",
   "pygments_lexer": "ipython3",
   "version": "3.11.3"
  },
  "orig_nbformat": 4
 },
 "nbformat": 4,
 "nbformat_minor": 2
}
