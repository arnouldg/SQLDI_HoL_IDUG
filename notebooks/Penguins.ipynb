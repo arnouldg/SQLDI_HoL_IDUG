{
 "cells": [
  {
   "attachments": {},
   "cell_type": "markdown",
   "metadata": {},
   "source": [
    "# Data Wrangling with Penguins\n",
    "\n",
    "* The dataset contains several measurements (features) of 344 penguins across 3 antartic islands\n",
    "* It contains a species designation (the label).\n",
    "* It is frequently used for learning how to develop machine learning classification models.\n",
    "* This Jupyter notebook contains data science work to analyze the data and train classification models."
   ]
  },
  {
   "attachments": {},
   "cell_type": "markdown",
   "metadata": {},
   "source": [
    "![TestImage](img/penguins3.JPG)"
   ]
  },
  {
   "attachments": {},
   "cell_type": "markdown",
   "metadata": {},
   "source": [
    "### Data Science Project Samples\n",
    "There are many sample data science projects to download from the internet.\n",
    "These examples are based upon a couple of projects published in Kaggle at the links below.\n",
    "\n",
    "* https://www.kaggle.com/code/parulpandey/penguin-dataset-the-new-iris/notebook\n",
    "* https://www.kaggle.com/code/mohamedharris/how-to-classify-penguins-a-beginner-s-guide\n"
   ]
  },
  {
   "attachments": {},
   "cell_type": "markdown",
   "metadata": {},
   "source": [
    "### Step 1 Connect to Db2 z/OS and review the data"
   ]
  },
  {
   "cell_type": "code",
   "execution_count": 1,
   "metadata": {},
   "outputs": [
    {
     "name": "stdout",
     "output_type": "stream",
     "text": [
      "Requirement already satisfied: ipython-sql==0.4.1 in /Users/garnould/miniforge3/envs/sqldi/lib/python3.11/site-packages (0.4.1)\n",
      "Requirement already satisfied: ibm_db in /Users/garnould/miniforge3/envs/sqldi/lib/python3.11/site-packages (3.2.6)\n",
      "Requirement already satisfied: sqlalchemy==1.4.47 in /Users/garnould/miniforge3/envs/sqldi/lib/python3.11/site-packages (1.4.47)\n",
      "Requirement already satisfied: ibm_db_sa in /Users/garnould/miniforge3/envs/sqldi/lib/python3.11/site-packages (0.4.1)\n",
      "Requirement already satisfied: prettytable<1 in /Users/garnould/miniforge3/envs/sqldi/lib/python3.11/site-packages (from ipython-sql==0.4.1) (0.7.2)\n",
      "Requirement already satisfied: ipython>=1.0 in /Users/garnould/miniforge3/envs/sqldi/lib/python3.11/site-packages (from ipython-sql==0.4.1) (9.2.0)\n",
      "Requirement already satisfied: sqlparse in /Users/garnould/miniforge3/envs/sqldi/lib/python3.11/site-packages (from ipython-sql==0.4.1) (0.5.3)\n",
      "Requirement already satisfied: six in /Users/garnould/miniforge3/envs/sqldi/lib/python3.11/site-packages (from ipython-sql==0.4.1) (1.17.0)\n",
      "Requirement already satisfied: ipython-genutils>=0.1.0 in /Users/garnould/miniforge3/envs/sqldi/lib/python3.11/site-packages (from ipython-sql==0.4.1) (0.2.0)\n",
      "Requirement already satisfied: greenlet!=0.4.17 in /Users/garnould/miniforge3/envs/sqldi/lib/python3.11/site-packages (from sqlalchemy==1.4.47) (3.2.2)\n",
      "Requirement already satisfied: decorator in /Users/garnould/miniforge3/envs/sqldi/lib/python3.11/site-packages (from ipython>=1.0->ipython-sql==0.4.1) (5.2.1)\n",
      "Requirement already satisfied: ipython-pygments-lexers in /Users/garnould/miniforge3/envs/sqldi/lib/python3.11/site-packages (from ipython>=1.0->ipython-sql==0.4.1) (1.1.1)\n",
      "Requirement already satisfied: jedi>=0.16 in /Users/garnould/miniforge3/envs/sqldi/lib/python3.11/site-packages (from ipython>=1.0->ipython-sql==0.4.1) (0.19.2)\n",
      "Requirement already satisfied: matplotlib-inline in /Users/garnould/miniforge3/envs/sqldi/lib/python3.11/site-packages (from ipython>=1.0->ipython-sql==0.4.1) (0.1.7)\n",
      "Requirement already satisfied: pexpect>4.3 in /Users/garnould/miniforge3/envs/sqldi/lib/python3.11/site-packages (from ipython>=1.0->ipython-sql==0.4.1) (4.9.0)\n",
      "Requirement already satisfied: prompt_toolkit<3.1.0,>=3.0.41 in /Users/garnould/miniforge3/envs/sqldi/lib/python3.11/site-packages (from ipython>=1.0->ipython-sql==0.4.1) (3.0.51)\n",
      "Requirement already satisfied: pygments>=2.4.0 in /Users/garnould/miniforge3/envs/sqldi/lib/python3.11/site-packages (from ipython>=1.0->ipython-sql==0.4.1) (2.19.1)\n",
      "Requirement already satisfied: stack_data in /Users/garnould/miniforge3/envs/sqldi/lib/python3.11/site-packages (from ipython>=1.0->ipython-sql==0.4.1) (0.6.3)\n",
      "Requirement already satisfied: traitlets>=5.13.0 in /Users/garnould/miniforge3/envs/sqldi/lib/python3.11/site-packages (from ipython>=1.0->ipython-sql==0.4.1) (5.14.3)\n",
      "Requirement already satisfied: typing_extensions>=4.6 in /Users/garnould/miniforge3/envs/sqldi/lib/python3.11/site-packages (from ipython>=1.0->ipython-sql==0.4.1) (4.13.2)\n",
      "Requirement already satisfied: wcwidth in /Users/garnould/miniforge3/envs/sqldi/lib/python3.11/site-packages (from prompt_toolkit<3.1.0,>=3.0.41->ipython>=1.0->ipython-sql==0.4.1) (0.2.13)\n",
      "Requirement already satisfied: parso<0.9.0,>=0.8.4 in /Users/garnould/miniforge3/envs/sqldi/lib/python3.11/site-packages (from jedi>=0.16->ipython>=1.0->ipython-sql==0.4.1) (0.8.4)\n",
      "Requirement already satisfied: ptyprocess>=0.5 in /Users/garnould/miniforge3/envs/sqldi/lib/python3.11/site-packages (from pexpect>4.3->ipython>=1.0->ipython-sql==0.4.1) (0.7.0)\n",
      "Requirement already satisfied: executing>=1.2.0 in /Users/garnould/miniforge3/envs/sqldi/lib/python3.11/site-packages (from stack_data->ipython>=1.0->ipython-sql==0.4.1) (2.2.0)\n",
      "Requirement already satisfied: asttokens>=2.1.0 in /Users/garnould/miniforge3/envs/sqldi/lib/python3.11/site-packages (from stack_data->ipython>=1.0->ipython-sql==0.4.1) (3.0.0)\n",
      "Requirement already satisfied: pure_eval in /Users/garnould/miniforge3/envs/sqldi/lib/python3.11/site-packages (from stack_data->ipython>=1.0->ipython-sql==0.4.1) (0.2.3)\n",
      "Note: you may need to restart the kernel to use updated packages.\n"
     ]
    }
   ],
   "source": [
    "pip install ipython-sql==0.4.1 ibm_db sqlalchemy==1.4.47 ibm_db_sa "
   ]
  },
  {
   "cell_type": "code",
   "execution_count": 2,
   "metadata": {},
   "outputs": [],
   "source": [
    "# and import them...\n",
    "\n",
    "import sys,os,os.path\n",
    "os.environ['IBM_DB_HOME']=\"/Applications/dsdriver\"\n",
    "\n",
    "import ibm_db \n",
    "import ibm_db_sa \n",
    "import sqlalchemy "
   ]
  },
  {
   "cell_type": "code",
   "execution_count": 3,
   "metadata": {},
   "outputs": [
    {
     "name": "stdout",
     "output_type": "stream",
     "text": [
      " * ibm_db_sa://WMLSCORS:***@10.3.58.61:448/RDBNDW00\n",
      "Done.\n"
     ]
    },
    {
     "data": {
      "text/html": [
       "<table>\n",
       "    <tr>\n",
       "        <th>id</th>\n",
       "        <th>species</th>\n",
       "        <th>island</th>\n",
       "        <th>bill_length_mm</th>\n",
       "        <th>bill_depth_mm</th>\n",
       "        <th>flipper_length_mm</th>\n",
       "        <th>body_mass_g</th>\n",
       "        <th>sex</th>\n",
       "    </tr>\n",
       "    <tr>\n",
       "        <td>1</td>\n",
       "        <td>Adelie</td>\n",
       "        <td>Torgersen</td>\n",
       "        <td>39.1</td>\n",
       "        <td>18.7</td>\n",
       "        <td>181</td>\n",
       "        <td>3750</td>\n",
       "        <td>MALE</td>\n",
       "    </tr>\n",
       "    <tr>\n",
       "        <td>2</td>\n",
       "        <td>Adelie</td>\n",
       "        <td>Torgersen</td>\n",
       "        <td>39.5</td>\n",
       "        <td>17.4</td>\n",
       "        <td>186</td>\n",
       "        <td>3800</td>\n",
       "        <td>FEMALE</td>\n",
       "    </tr>\n",
       "    <tr>\n",
       "        <td>3</td>\n",
       "        <td>Adelie</td>\n",
       "        <td>Torgersen</td>\n",
       "        <td>40.3</td>\n",
       "        <td>18.0</td>\n",
       "        <td>195</td>\n",
       "        <td>3250</td>\n",
       "        <td>FEMALE</td>\n",
       "    </tr>\n",
       "    <tr>\n",
       "        <td>4</td>\n",
       "        <td>Adelie</td>\n",
       "        <td>Torgersen</td>\n",
       "        <td>None</td>\n",
       "        <td>None</td>\n",
       "        <td>None</td>\n",
       "        <td>None</td>\n",
       "        <td>None</td>\n",
       "    </tr>\n",
       "    <tr>\n",
       "        <td>5</td>\n",
       "        <td>Adelie</td>\n",
       "        <td>Torgersen</td>\n",
       "        <td>36.7</td>\n",
       "        <td>19.3</td>\n",
       "        <td>193</td>\n",
       "        <td>3450</td>\n",
       "        <td>FEMALE</td>\n",
       "    </tr>\n",
       "    <tr>\n",
       "        <td>6</td>\n",
       "        <td>Adelie</td>\n",
       "        <td>Torgersen</td>\n",
       "        <td>39.3</td>\n",
       "        <td>20.6</td>\n",
       "        <td>190</td>\n",
       "        <td>3650</td>\n",
       "        <td>MALE</td>\n",
       "    </tr>\n",
       "    <tr>\n",
       "        <td>7</td>\n",
       "        <td>Adelie</td>\n",
       "        <td>Torgersen</td>\n",
       "        <td>38.9</td>\n",
       "        <td>17.8</td>\n",
       "        <td>181</td>\n",
       "        <td>3625</td>\n",
       "        <td>FEMALE</td>\n",
       "    </tr>\n",
       "    <tr>\n",
       "        <td>8</td>\n",
       "        <td>Adelie</td>\n",
       "        <td>Torgersen</td>\n",
       "        <td>39.2</td>\n",
       "        <td>19.6</td>\n",
       "        <td>195</td>\n",
       "        <td>4675</td>\n",
       "        <td>MALE</td>\n",
       "    </tr>\n",
       "    <tr>\n",
       "        <td>9</td>\n",
       "        <td>Adelie</td>\n",
       "        <td>Torgersen</td>\n",
       "        <td>34.1</td>\n",
       "        <td>18.1</td>\n",
       "        <td>193</td>\n",
       "        <td>3475</td>\n",
       "        <td>None</td>\n",
       "    </tr>\n",
       "    <tr>\n",
       "        <td>10</td>\n",
       "        <td>Adelie</td>\n",
       "        <td>Torgersen</td>\n",
       "        <td>42.0</td>\n",
       "        <td>20.2</td>\n",
       "        <td>190</td>\n",
       "        <td>4250</td>\n",
       "        <td>None</td>\n",
       "    </tr>\n",
       "</table>"
      ],
      "text/plain": [
       "[(1, 'Adelie', 'Torgersen', Decimal('39.1'), Decimal('18.7'), 181, 3750, 'MALE'),\n",
       " (2, 'Adelie', 'Torgersen', Decimal('39.5'), Decimal('17.4'), 186, 3800, 'FEMALE'),\n",
       " (3, 'Adelie', 'Torgersen', Decimal('40.3'), Decimal('18.0'), 195, 3250, 'FEMALE'),\n",
       " (4, 'Adelie', 'Torgersen', None, None, None, None, None),\n",
       " (5, 'Adelie', 'Torgersen', Decimal('36.7'), Decimal('19.3'), 193, 3450, 'FEMALE'),\n",
       " (6, 'Adelie', 'Torgersen', Decimal('39.3'), Decimal('20.6'), 190, 3650, 'MALE'),\n",
       " (7, 'Adelie', 'Torgersen', Decimal('38.9'), Decimal('17.8'), 181, 3625, 'FEMALE'),\n",
       " (8, 'Adelie', 'Torgersen', Decimal('39.2'), Decimal('19.6'), 195, 4675, 'MALE'),\n",
       " (9, 'Adelie', 'Torgersen', Decimal('34.1'), Decimal('18.1'), 193, 3475, None),\n",
       " (10, 'Adelie', 'Torgersen', Decimal('42.0'), Decimal('20.2'), 190, 4250, None)]"
      ]
     },
     "execution_count": 3,
     "metadata": {},
     "output_type": "execute_result"
    }
   ],
   "source": [
    "# Now, lets take a look at the Penguins Dataset \n",
    "%load_ext sql\n",
    "%sql ibm_db_sa://WMLSCORS:vesna08a@10.3.58.61:448/RDBNDW00\n",
    "%sql select * from TSOLENK.PENGUINS_DATA fetch first 10 rows only\n"
   ]
  },
  {
   "cell_type": "code",
   "execution_count": 4,
   "metadata": {},
   "outputs": [
    {
     "name": "stdout",
     "output_type": "stream",
     "text": [
      " * ibm_db_sa://WMLSCORS:***@10.3.58.61:448/RDBNDW00\n",
      "Done.\n"
     ]
    },
    {
     "data": {
      "text/html": [
       "<table>\n",
       "    <tr>\n",
       "        <th>island</th>\n",
       "        <th>species</th>\n",
       "        <th>sex</th>\n",
       "        <th>COUNT</th>\n",
       "    </tr>\n",
       "    <tr>\n",
       "        <td>Biscoe</td>\n",
       "        <td>Adelie</td>\n",
       "        <td>FEMALE</td>\n",
       "        <td>22</td>\n",
       "    </tr>\n",
       "    <tr>\n",
       "        <td>Biscoe</td>\n",
       "        <td>Adelie</td>\n",
       "        <td>MALE</td>\n",
       "        <td>22</td>\n",
       "    </tr>\n",
       "    <tr>\n",
       "        <td>Biscoe</td>\n",
       "        <td>Gentoo</td>\n",
       "        <td>FEMALE</td>\n",
       "        <td>58</td>\n",
       "    </tr>\n",
       "    <tr>\n",
       "        <td>Biscoe</td>\n",
       "        <td>Gentoo</td>\n",
       "        <td>MALE</td>\n",
       "        <td>61</td>\n",
       "    </tr>\n",
       "    <tr>\n",
       "        <td>Biscoe</td>\n",
       "        <td>Gentoo</td>\n",
       "        <td>None</td>\n",
       "        <td>5</td>\n",
       "    </tr>\n",
       "    <tr>\n",
       "        <td>Dream</td>\n",
       "        <td>Adelie</td>\n",
       "        <td>FEMALE</td>\n",
       "        <td>27</td>\n",
       "    </tr>\n",
       "    <tr>\n",
       "        <td>Dream</td>\n",
       "        <td>Adelie</td>\n",
       "        <td>MALE</td>\n",
       "        <td>28</td>\n",
       "    </tr>\n",
       "    <tr>\n",
       "        <td>Dream</td>\n",
       "        <td>Adelie</td>\n",
       "        <td>None</td>\n",
       "        <td>1</td>\n",
       "    </tr>\n",
       "    <tr>\n",
       "        <td>Dream</td>\n",
       "        <td>Chinstrap</td>\n",
       "        <td>FEMALE</td>\n",
       "        <td>34</td>\n",
       "    </tr>\n",
       "    <tr>\n",
       "        <td>Dream</td>\n",
       "        <td>Chinstrap</td>\n",
       "        <td>MALE</td>\n",
       "        <td>34</td>\n",
       "    </tr>\n",
       "    <tr>\n",
       "        <td>Torgersen</td>\n",
       "        <td>Adelie</td>\n",
       "        <td>FEMALE</td>\n",
       "        <td>24</td>\n",
       "    </tr>\n",
       "    <tr>\n",
       "        <td>Torgersen</td>\n",
       "        <td>Adelie</td>\n",
       "        <td>MALE</td>\n",
       "        <td>23</td>\n",
       "    </tr>\n",
       "    <tr>\n",
       "        <td>Torgersen</td>\n",
       "        <td>Adelie</td>\n",
       "        <td>None</td>\n",
       "        <td>5</td>\n",
       "    </tr>\n",
       "</table>"
      ],
      "text/plain": [
       "[('Biscoe', 'Adelie', 'FEMALE', 22),\n",
       " ('Biscoe', 'Adelie', 'MALE', 22),\n",
       " ('Biscoe', 'Gentoo', 'FEMALE', 58),\n",
       " ('Biscoe', 'Gentoo', 'MALE', 61),\n",
       " ('Biscoe', 'Gentoo', None, 5),\n",
       " ('Dream', 'Adelie', 'FEMALE', 27),\n",
       " ('Dream', 'Adelie', 'MALE', 28),\n",
       " ('Dream', 'Adelie', None, 1),\n",
       " ('Dream', 'Chinstrap', 'FEMALE', 34),\n",
       " ('Dream', 'Chinstrap', 'MALE', 34),\n",
       " ('Torgersen', 'Adelie', 'FEMALE', 24),\n",
       " ('Torgersen', 'Adelie', 'MALE', 23),\n",
       " ('Torgersen', 'Adelie', None, 5)]"
      ]
     },
     "execution_count": 4,
     "metadata": {},
     "output_type": "execute_result"
    }
   ],
   "source": [
    "# A quick count of the data records by island, species and sex\n",
    "\n",
    "%sql select island, species, sex, count(*) as count from TSOLENK.PENGUINS_DATA group by island, species, sex order by island, species, sex"
   ]
  },
  {
   "attachments": {},
   "cell_type": "markdown",
   "metadata": {},
   "source": [
    "### Step 2 Install and Import the standard data science tools you wish to use\n",
    "\n",
    "* Libraries exist for many purposes (data access, mathematical tools, visualisation tools etc...)\n",
    "* The libraries that you choose to use must be installed and imported into this python kernel (cw01 - top right)."
   ]
  },
  {
   "cell_type": "code",
   "execution_count": 5,
   "metadata": {},
   "outputs": [
    {
     "name": "stdout",
     "output_type": "stream",
     "text": [
      "Collecting pandas\n",
      "  Using cached pandas-2.2.3-cp311-cp311-macosx_10_9_x86_64.whl.metadata (89 kB)\n",
      "Collecting dcor\n",
      "  Downloading dcor-0.6-py3-none-any.whl.metadata (6.2 kB)\n",
      "Collecting numpy\n",
      "  Downloading numpy-2.2.6-cp311-cp311-macosx_14_0_x86_64.whl.metadata (62 kB)\n",
      "Collecting scikit-learn\n",
      "  Downloading scikit_learn-1.6.1-cp311-cp311-macosx_10_9_x86_64.whl.metadata (31 kB)\n",
      "Collecting matplotlib\n",
      "  Downloading matplotlib-3.10.3-cp311-cp311-macosx_10_12_x86_64.whl.metadata (11 kB)\n",
      "Collecting seaborn\n",
      "  Downloading seaborn-0.13.2-py3-none-any.whl.metadata (5.4 kB)\n",
      "Collecting pycountry\n",
      "  Downloading pycountry-24.6.1-py3-none-any.whl.metadata (12 kB)\n",
      "Collecting plotly\n",
      "  Downloading plotly-6.1.1-py3-none-any.whl.metadata (6.9 kB)\n",
      "Collecting cufflinks\n",
      "  Downloading cufflinks-0.17.3.tar.gz (81 kB)\n",
      "  Preparing metadata (setup.py) ... \u001b[?25ldone\n",
      "\u001b[?25hCollecting folium\n",
      "  Downloading folium-0.19.6-py2.py3-none-any.whl.metadata (4.1 kB)\n",
      "Collecting nbformat\n",
      "  Downloading nbformat-5.10.4-py3-none-any.whl.metadata (3.6 kB)\n",
      "Collecting chart_studio\n",
      "  Downloading chart_studio-1.1.0-py3-none-any.whl.metadata (1.3 kB)\n",
      "Requirement already satisfied: python-dateutil>=2.8.2 in /Users/garnould/miniforge3/envs/sqldi/lib/python3.11/site-packages (from pandas) (2.9.0.post0)\n",
      "Collecting pytz>=2020.1 (from pandas)\n",
      "  Downloading pytz-2025.2-py2.py3-none-any.whl.metadata (22 kB)\n",
      "Collecting tzdata>=2022.7 (from pandas)\n",
      "  Downloading tzdata-2025.2-py2.py3-none-any.whl.metadata (1.4 kB)\n",
      "Collecting numba>=0.51 (from dcor)\n",
      "  Downloading numba-0.61.2-cp311-cp311-macosx_10_14_x86_64.whl.metadata (2.8 kB)\n",
      "Collecting scipy (from dcor)\n",
      "  Downloading scipy-1.15.3-cp311-cp311-macosx_14_0_x86_64.whl.metadata (61 kB)\n",
      "Collecting joblib (from dcor)\n",
      "  Downloading joblib-1.5.0-py3-none-any.whl.metadata (5.6 kB)\n",
      "Collecting threadpoolctl>=3.1.0 (from scikit-learn)\n",
      "  Downloading threadpoolctl-3.6.0-py3-none-any.whl.metadata (13 kB)\n",
      "Collecting contourpy>=1.0.1 (from matplotlib)\n",
      "  Downloading contourpy-1.3.2-cp311-cp311-macosx_10_9_x86_64.whl.metadata (5.5 kB)\n",
      "Collecting cycler>=0.10 (from matplotlib)\n",
      "  Using cached cycler-0.12.1-py3-none-any.whl.metadata (3.8 kB)\n",
      "Collecting fonttools>=4.22.0 (from matplotlib)\n",
      "  Downloading fonttools-4.58.0-cp311-cp311-macosx_10_9_x86_64.whl.metadata (104 kB)\n",
      "Collecting kiwisolver>=1.3.1 (from matplotlib)\n",
      "  Downloading kiwisolver-1.4.8-cp311-cp311-macosx_10_9_x86_64.whl.metadata (6.2 kB)\n",
      "Requirement already satisfied: packaging>=20.0 in /Users/garnould/miniforge3/envs/sqldi/lib/python3.11/site-packages (from matplotlib) (25.0)\n",
      "Collecting pillow>=8 (from matplotlib)\n",
      "  Downloading pillow-11.2.1-cp311-cp311-macosx_10_10_x86_64.whl.metadata (8.9 kB)\n",
      "Collecting pyparsing>=2.3.1 (from matplotlib)\n",
      "  Downloading pyparsing-3.2.3-py3-none-any.whl.metadata (5.0 kB)\n",
      "Collecting narwhals>=1.15.1 (from plotly)\n",
      "  Downloading narwhals-1.40.0-py3-none-any.whl.metadata (11 kB)\n",
      "Requirement already satisfied: six>=1.9.0 in /Users/garnould/miniforge3/envs/sqldi/lib/python3.11/site-packages (from cufflinks) (1.17.0)\n",
      "Collecting colorlover>=0.2.1 (from cufflinks)\n",
      "  Downloading colorlover-0.3.0-py3-none-any.whl.metadata (421 bytes)\n",
      "Requirement already satisfied: setuptools>=34.4.1 in /Users/garnould/miniforge3/envs/sqldi/lib/python3.11/site-packages (from cufflinks) (80.8.0)\n",
      "Requirement already satisfied: ipython>=5.3.0 in /Users/garnould/miniforge3/envs/sqldi/lib/python3.11/site-packages (from cufflinks) (9.2.0)\n",
      "Collecting ipywidgets>=7.0.0 (from cufflinks)\n",
      "  Downloading ipywidgets-8.1.7-py3-none-any.whl.metadata (2.4 kB)\n",
      "Collecting branca>=0.6.0 (from folium)\n",
      "  Downloading branca-0.8.1-py3-none-any.whl.metadata (1.5 kB)\n",
      "Collecting jinja2>=2.9 (from folium)\n",
      "  Downloading jinja2-3.1.6-py3-none-any.whl.metadata (2.9 kB)\n",
      "Collecting requests (from folium)\n",
      "  Using cached requests-2.32.3-py3-none-any.whl.metadata (4.6 kB)\n",
      "Collecting xyzservices (from folium)\n",
      "  Downloading xyzservices-2025.4.0-py3-none-any.whl.metadata (4.3 kB)\n",
      "Collecting fastjsonschema>=2.15 (from nbformat)\n",
      "  Downloading fastjsonschema-2.21.1-py3-none-any.whl.metadata (2.2 kB)\n",
      "Collecting jsonschema>=2.6 (from nbformat)\n",
      "  Using cached jsonschema-4.23.0-py3-none-any.whl.metadata (7.9 kB)\n",
      "Requirement already satisfied: jupyter-core!=5.0.*,>=4.12 in /Users/garnould/miniforge3/envs/sqldi/lib/python3.11/site-packages (from nbformat) (5.7.2)\n",
      "Requirement already satisfied: traitlets>=5.1 in /Users/garnould/miniforge3/envs/sqldi/lib/python3.11/site-packages (from nbformat) (5.14.3)\n",
      "Collecting retrying>=1.3.3 (from chart_studio)\n",
      "  Downloading retrying-1.3.4-py3-none-any.whl.metadata (6.9 kB)\n",
      "Requirement already satisfied: decorator in /Users/garnould/miniforge3/envs/sqldi/lib/python3.11/site-packages (from ipython>=5.3.0->cufflinks) (5.2.1)\n",
      "Requirement already satisfied: ipython-pygments-lexers in /Users/garnould/miniforge3/envs/sqldi/lib/python3.11/site-packages (from ipython>=5.3.0->cufflinks) (1.1.1)\n",
      "Requirement already satisfied: jedi>=0.16 in /Users/garnould/miniforge3/envs/sqldi/lib/python3.11/site-packages (from ipython>=5.3.0->cufflinks) (0.19.2)\n",
      "Requirement already satisfied: matplotlib-inline in /Users/garnould/miniforge3/envs/sqldi/lib/python3.11/site-packages (from ipython>=5.3.0->cufflinks) (0.1.7)\n",
      "Requirement already satisfied: pexpect>4.3 in /Users/garnould/miniforge3/envs/sqldi/lib/python3.11/site-packages (from ipython>=5.3.0->cufflinks) (4.9.0)\n",
      "Requirement already satisfied: prompt_toolkit<3.1.0,>=3.0.41 in /Users/garnould/miniforge3/envs/sqldi/lib/python3.11/site-packages (from ipython>=5.3.0->cufflinks) (3.0.51)\n",
      "Requirement already satisfied: pygments>=2.4.0 in /Users/garnould/miniforge3/envs/sqldi/lib/python3.11/site-packages (from ipython>=5.3.0->cufflinks) (2.19.1)\n",
      "Requirement already satisfied: stack_data in /Users/garnould/miniforge3/envs/sqldi/lib/python3.11/site-packages (from ipython>=5.3.0->cufflinks) (0.6.3)\n",
      "Requirement already satisfied: typing_extensions>=4.6 in /Users/garnould/miniforge3/envs/sqldi/lib/python3.11/site-packages (from ipython>=5.3.0->cufflinks) (4.13.2)\n",
      "Requirement already satisfied: wcwidth in /Users/garnould/miniforge3/envs/sqldi/lib/python3.11/site-packages (from prompt_toolkit<3.1.0,>=3.0.41->ipython>=5.3.0->cufflinks) (0.2.13)\n",
      "Requirement already satisfied: comm>=0.1.3 in /Users/garnould/miniforge3/envs/sqldi/lib/python3.11/site-packages (from ipywidgets>=7.0.0->cufflinks) (0.2.2)\n",
      "Collecting widgetsnbextension~=4.0.14 (from ipywidgets>=7.0.0->cufflinks)\n",
      "  Downloading widgetsnbextension-4.0.14-py3-none-any.whl.metadata (1.6 kB)\n",
      "Collecting jupyterlab_widgets~=3.0.15 (from ipywidgets>=7.0.0->cufflinks)\n",
      "  Downloading jupyterlab_widgets-3.0.15-py3-none-any.whl.metadata (20 kB)\n",
      "Requirement already satisfied: parso<0.9.0,>=0.8.4 in /Users/garnould/miniforge3/envs/sqldi/lib/python3.11/site-packages (from jedi>=0.16->ipython>=5.3.0->cufflinks) (0.8.4)\n",
      "Collecting MarkupSafe>=2.0 (from jinja2>=2.9->folium)\n",
      "  Using cached MarkupSafe-3.0.2-cp311-cp311-macosx_10_9_universal2.whl.metadata (4.0 kB)\n",
      "Collecting attrs>=22.2.0 (from jsonschema>=2.6->nbformat)\n",
      "  Downloading attrs-25.3.0-py3-none-any.whl.metadata (10 kB)\n",
      "Collecting jsonschema-specifications>=2023.03.6 (from jsonschema>=2.6->nbformat)\n",
      "  Downloading jsonschema_specifications-2025.4.1-py3-none-any.whl.metadata (2.9 kB)\n",
      "Collecting referencing>=0.28.4 (from jsonschema>=2.6->nbformat)\n",
      "  Downloading referencing-0.36.2-py3-none-any.whl.metadata (2.8 kB)\n",
      "Collecting rpds-py>=0.7.1 (from jsonschema>=2.6->nbformat)\n",
      "  Downloading rpds_py-0.25.1-cp311-cp311-macosx_10_12_x86_64.whl.metadata (4.1 kB)\n",
      "Requirement already satisfied: platformdirs>=2.5 in /Users/garnould/miniforge3/envs/sqldi/lib/python3.11/site-packages (from jupyter-core!=5.0.*,>=4.12->nbformat) (4.3.8)\n",
      "Collecting llvmlite<0.45,>=0.44.0dev0 (from numba>=0.51->dcor)\n",
      "  Downloading llvmlite-0.44.0-cp311-cp311-macosx_10_14_x86_64.whl.metadata (4.8 kB)\n",
      "Requirement already satisfied: ptyprocess>=0.5 in /Users/garnould/miniforge3/envs/sqldi/lib/python3.11/site-packages (from pexpect>4.3->ipython>=5.3.0->cufflinks) (0.7.0)\n",
      "Collecting charset-normalizer<4,>=2 (from requests->folium)\n",
      "  Downloading charset_normalizer-3.4.2-cp311-cp311-macosx_10_9_universal2.whl.metadata (35 kB)\n",
      "Collecting idna<4,>=2.5 (from requests->folium)\n",
      "  Using cached idna-3.10-py3-none-any.whl.metadata (10 kB)\n",
      "Collecting urllib3<3,>=1.21.1 (from requests->folium)\n",
      "  Downloading urllib3-2.4.0-py3-none-any.whl.metadata (6.5 kB)\n",
      "Collecting certifi>=2017.4.17 (from requests->folium)\n",
      "  Downloading certifi-2025.4.26-py3-none-any.whl.metadata (2.5 kB)\n",
      "Requirement already satisfied: executing>=1.2.0 in /Users/garnould/miniforge3/envs/sqldi/lib/python3.11/site-packages (from stack_data->ipython>=5.3.0->cufflinks) (2.2.0)\n",
      "Requirement already satisfied: asttokens>=2.1.0 in /Users/garnould/miniforge3/envs/sqldi/lib/python3.11/site-packages (from stack_data->ipython>=5.3.0->cufflinks) (3.0.0)\n",
      "Requirement already satisfied: pure_eval in /Users/garnould/miniforge3/envs/sqldi/lib/python3.11/site-packages (from stack_data->ipython>=5.3.0->cufflinks) (0.2.3)\n",
      "Using cached pandas-2.2.3-cp311-cp311-macosx_10_9_x86_64.whl (12.6 MB)\n",
      "Downloading dcor-0.6-py3-none-any.whl (55 kB)\n",
      "Downloading numpy-2.2.6-cp311-cp311-macosx_14_0_x86_64.whl (6.9 MB)\n",
      "\u001b[2K   \u001b[90m━━━━━━━━━━━━━━━━━━━━━━━━━━━━━━━━━━━━━━━━\u001b[0m \u001b[32m6.9/6.9 MB\u001b[0m \u001b[31m16.0 MB/s\u001b[0m eta \u001b[36m0:00:00\u001b[0m00:01\u001b[0m00:01\u001b[0m\n",
      "\u001b[?25hDownloading scikit_learn-1.6.1-cp311-cp311-macosx_10_9_x86_64.whl (12.1 MB)\n",
      "\u001b[2K   \u001b[90m━━━━━━━━━━━━━━━━━━━━━━━━━━━━━━━━━━━━━━━━\u001b[0m \u001b[32m12.1/12.1 MB\u001b[0m \u001b[31m16.6 MB/s\u001b[0m eta \u001b[36m0:00:00\u001b[0ma \u001b[36m0:00:01\u001b[0m\n",
      "\u001b[?25hDownloading matplotlib-3.10.3-cp311-cp311-macosx_10_12_x86_64.whl (8.2 MB)\n",
      "\u001b[2K   \u001b[90m━━━━━━━━━━━━━━━━━━━━━━━━━━━━━━━━━━━━━━━━\u001b[0m \u001b[32m8.2/8.2 MB\u001b[0m \u001b[31m15.4 MB/s\u001b[0m eta \u001b[36m0:00:00\u001b[0ma \u001b[36m0:00:01\u001b[0m\n",
      "\u001b[?25hDownloading seaborn-0.13.2-py3-none-any.whl (294 kB)\n",
      "Downloading pycountry-24.6.1-py3-none-any.whl (6.3 MB)\n",
      "\u001b[2K   \u001b[90m━━━━━━━━━━━━━━━━━━━━━━━━━━━━━━━━━━━━━━━━\u001b[0m \u001b[32m6.3/6.3 MB\u001b[0m \u001b[31m16.4 MB/s\u001b[0m eta \u001b[36m0:00:00\u001b[0ma \u001b[36m0:00:01\u001b[0m\n",
      "\u001b[?25hDownloading plotly-6.1.1-py3-none-any.whl (16.1 MB)\n",
      "\u001b[2K   \u001b[90m━━━━━━━━━━━━━━━━━━━━━━━━━━━━━━━━━━━━━━━━\u001b[0m \u001b[32m16.1/16.1 MB\u001b[0m \u001b[31m17.3 MB/s\u001b[0m eta \u001b[36m0:00:00\u001b[0ma \u001b[36m0:00:01\u001b[0m\n",
      "\u001b[?25hDownloading folium-0.19.6-py2.py3-none-any.whl (112 kB)\n",
      "Downloading nbformat-5.10.4-py3-none-any.whl (78 kB)\n",
      "Downloading chart_studio-1.1.0-py3-none-any.whl (64 kB)\n",
      "Downloading branca-0.8.1-py3-none-any.whl (26 kB)\n",
      "Downloading colorlover-0.3.0-py3-none-any.whl (8.9 kB)\n",
      "Downloading contourpy-1.3.2-cp311-cp311-macosx_10_9_x86_64.whl (269 kB)\n",
      "Using cached cycler-0.12.1-py3-none-any.whl (8.3 kB)\n",
      "Downloading fastjsonschema-2.21.1-py3-none-any.whl (23 kB)\n",
      "Downloading fonttools-4.58.0-cp311-cp311-macosx_10_9_x86_64.whl (2.3 MB)\n",
      "\u001b[2K   \u001b[90m━━━━━━━━━━━━━━━━━━━━━━━━━━━━━━━━━━━━━━━━\u001b[0m \u001b[32m2.3/2.3 MB\u001b[0m \u001b[31m12.7 MB/s\u001b[0m eta \u001b[36m0:00:00\u001b[0m\n",
      "\u001b[?25hDownloading ipywidgets-8.1.7-py3-none-any.whl (139 kB)\n",
      "Downloading jupyterlab_widgets-3.0.15-py3-none-any.whl (216 kB)\n",
      "Downloading widgetsnbextension-4.0.14-py3-none-any.whl (2.2 MB)\n",
      "\u001b[2K   \u001b[90m━━━━━━━━━━━━━━━━━━━━━━━━━━━━━━━━━━━━━━━━\u001b[0m \u001b[32m2.2/2.2 MB\u001b[0m \u001b[31m15.3 MB/s\u001b[0m eta \u001b[36m0:00:00\u001b[0m\n",
      "\u001b[?25hDownloading jinja2-3.1.6-py3-none-any.whl (134 kB)\n",
      "Downloading joblib-1.5.0-py3-none-any.whl (307 kB)\n",
      "Using cached jsonschema-4.23.0-py3-none-any.whl (88 kB)\n",
      "Downloading attrs-25.3.0-py3-none-any.whl (63 kB)\n",
      "Downloading jsonschema_specifications-2025.4.1-py3-none-any.whl (18 kB)\n",
      "Downloading kiwisolver-1.4.8-cp311-cp311-macosx_10_9_x86_64.whl (66 kB)\n",
      "Using cached MarkupSafe-3.0.2-cp311-cp311-macosx_10_9_universal2.whl (14 kB)\n",
      "Downloading narwhals-1.40.0-py3-none-any.whl (357 kB)\n",
      "Downloading numba-0.61.2-cp311-cp311-macosx_10_14_x86_64.whl (2.8 MB)\n",
      "\u001b[2K   \u001b[90m━━━━━━━━━━━━━━━━━━━━━━━━━━━━━━━━━━━━━━━━\u001b[0m \u001b[32m2.8/2.8 MB\u001b[0m \u001b[31m15.6 MB/s\u001b[0m eta \u001b[36m0:00:00\u001b[0m\n",
      "\u001b[?25hDownloading llvmlite-0.44.0-cp311-cp311-macosx_10_14_x86_64.whl (28.1 MB)\n",
      "\u001b[2K   \u001b[90m━━━━━━━━━━━━━━━━━━━━━━━━━━━━━━━━━━━━━━━━\u001b[0m \u001b[32m28.1/28.1 MB\u001b[0m \u001b[31m17.7 MB/s\u001b[0m eta \u001b[36m0:00:00\u001b[0ma \u001b[36m0:00:01\u001b[0m\n",
      "\u001b[?25hDownloading pillow-11.2.1-cp311-cp311-macosx_10_10_x86_64.whl (3.2 MB)\n",
      "\u001b[2K   \u001b[90m━━━━━━━━━━━━━━━━━━━━━━━━━━━━━━━━━━━━━━━━\u001b[0m \u001b[32m3.2/3.2 MB\u001b[0m \u001b[31m15.3 MB/s\u001b[0m eta \u001b[36m0:00:00\u001b[0m\n",
      "\u001b[?25hDownloading pyparsing-3.2.3-py3-none-any.whl (111 kB)\n",
      "Downloading pytz-2025.2-py2.py3-none-any.whl (509 kB)\n",
      "Downloading referencing-0.36.2-py3-none-any.whl (26 kB)\n",
      "Downloading retrying-1.3.4-py3-none-any.whl (11 kB)\n",
      "Downloading rpds_py-0.25.1-cp311-cp311-macosx_10_12_x86_64.whl (373 kB)\n",
      "Downloading scipy-1.15.3-cp311-cp311-macosx_14_0_x86_64.whl (25.2 MB)\n",
      "\u001b[2K   \u001b[90m━━━━━━━━━━━━━━━━━━━━━━━━━━━━━━━━━━━━━━━━\u001b[0m \u001b[32m25.2/25.2 MB\u001b[0m \u001b[31m16.8 MB/s\u001b[0m eta \u001b[36m0:00:00\u001b[0m00:01\u001b[0m00:01\u001b[0m\n",
      "\u001b[?25hDownloading threadpoolctl-3.6.0-py3-none-any.whl (18 kB)\n",
      "Downloading tzdata-2025.2-py2.py3-none-any.whl (347 kB)\n",
      "Using cached requests-2.32.3-py3-none-any.whl (64 kB)\n",
      "Downloading charset_normalizer-3.4.2-cp311-cp311-macosx_10_9_universal2.whl (198 kB)\n",
      "Using cached idna-3.10-py3-none-any.whl (70 kB)\n",
      "Downloading urllib3-2.4.0-py3-none-any.whl (128 kB)\n",
      "Downloading certifi-2025.4.26-py3-none-any.whl (159 kB)\n",
      "Downloading xyzservices-2025.4.0-py3-none-any.whl (90 kB)\n",
      "Building wheels for collected packages: cufflinks\n",
      "\u001b[33m  DEPRECATION: Building 'cufflinks' using the legacy setup.py bdist_wheel mechanism, which will be removed in a future version. pip 25.3 will enforce this behaviour change. A possible replacement is to use the standardized build interface by setting the `--use-pep517` option, (possibly combined with `--no-build-isolation`), or adding a `pyproject.toml` file to the source tree of 'cufflinks'. Discussion can be found at https://github.com/pypa/pip/issues/6334\u001b[0m\u001b[33m\n",
      "\u001b[0m  Building wheel for cufflinks (setup.py) ... \u001b[?25ldone\n",
      "\u001b[?25h  Created wheel for cufflinks: filename=cufflinks-0.17.3-py3-none-any.whl size=67940 sha256=796a78c54281f23abf178683226c3ba400787546f4726cdbfd86c88fdb7e3298\n",
      "  Stored in directory: /Users/garnould/Library/Caches/pip/wheels/c3/bf/8f/afa0730b29e347e8c1071049f89748c1262e7a14a838820ae6\n",
      "Successfully built cufflinks\n",
      "Installing collected packages: pytz, fastjsonschema, colorlover, xyzservices, widgetsnbextension, urllib3, tzdata, threadpoolctl, rpds-py, retrying, pyparsing, pycountry, pillow, numpy, narwhals, MarkupSafe, llvmlite, kiwisolver, jupyterlab_widgets, joblib, idna, fonttools, cycler, charset-normalizer, certifi, attrs, scipy, requests, referencing, plotly, pandas, numba, jinja2, contourpy, scikit-learn, matplotlib, jsonschema-specifications, ipywidgets, dcor, chart_studio, branca, seaborn, jsonschema, folium, cufflinks, nbformat\n",
      "\u001b[2K   \u001b[90m━━━━━━━━━━━━━━━━━━━━━━━━━━━━━━━━━━━━━━━━\u001b[0m \u001b[32m46/46\u001b[0m [nbformat]nbformat]jsonschema]n]nsion]\n",
      "\u001b[1A\u001b[2KSuccessfully installed MarkupSafe-3.0.2 attrs-25.3.0 branca-0.8.1 certifi-2025.4.26 charset-normalizer-3.4.2 chart_studio-1.1.0 colorlover-0.3.0 contourpy-1.3.2 cufflinks-0.17.3 cycler-0.12.1 dcor-0.6 fastjsonschema-2.21.1 folium-0.19.6 fonttools-4.58.0 idna-3.10 ipywidgets-8.1.7 jinja2-3.1.6 joblib-1.5.0 jsonschema-4.23.0 jsonschema-specifications-2025.4.1 jupyterlab_widgets-3.0.15 kiwisolver-1.4.8 llvmlite-0.44.0 matplotlib-3.10.3 narwhals-1.40.0 nbformat-5.10.4 numba-0.61.2 numpy-2.2.6 pandas-2.2.3 pillow-11.2.1 plotly-6.1.1 pycountry-24.6.1 pyparsing-3.2.3 pytz-2025.2 referencing-0.36.2 requests-2.32.3 retrying-1.3.4 rpds-py-0.25.1 scikit-learn-1.6.1 scipy-1.15.3 seaborn-0.13.2 threadpoolctl-3.6.0 tzdata-2025.2 urllib3-2.4.0 widgetsnbextension-4.0.14 xyzservices-2025.4.0\n",
      "Note: you may need to restart the kernel to use updated packages.\n"
     ]
    }
   ],
   "source": [
    "pip install pandas dcor numpy scikit-learn matplotlib seaborn pycountry plotly cufflinks folium nbformat chart_studio"
   ]
  },
  {
   "cell_type": "code",
   "execution_count": 6,
   "metadata": {},
   "outputs": [
    {
     "name": "stderr",
     "output_type": "stream",
     "text": [
      "Matplotlib is building the font cache; this may take a moment.\n"
     ]
    },
    {
     "name": "stdout",
     "output_type": "stream",
     "text": [
      "Requirement already satisfied: chart_studio in /Users/garnould/miniforge3/envs/sqldi/lib/python3.11/site-packages (1.1.0)\n",
      "Requirement already satisfied: plotly in /Users/garnould/miniforge3/envs/sqldi/lib/python3.11/site-packages (from chart_studio) (6.1.1)\n",
      "Requirement already satisfied: requests in /Users/garnould/miniforge3/envs/sqldi/lib/python3.11/site-packages (from chart_studio) (2.32.3)\n",
      "Requirement already satisfied: retrying>=1.3.3 in /Users/garnould/miniforge3/envs/sqldi/lib/python3.11/site-packages (from chart_studio) (1.3.4)\n",
      "Requirement already satisfied: six in /Users/garnould/miniforge3/envs/sqldi/lib/python3.11/site-packages (from chart_studio) (1.17.0)\n",
      "Requirement already satisfied: narwhals>=1.15.1 in /Users/garnould/miniforge3/envs/sqldi/lib/python3.11/site-packages (from plotly->chart_studio) (1.40.0)\n",
      "Requirement already satisfied: packaging in /Users/garnould/miniforge3/envs/sqldi/lib/python3.11/site-packages (from plotly->chart_studio) (25.0)\n",
      "Requirement already satisfied: charset-normalizer<4,>=2 in /Users/garnould/miniforge3/envs/sqldi/lib/python3.11/site-packages (from requests->chart_studio) (3.4.2)\n",
      "Requirement already satisfied: idna<4,>=2.5 in /Users/garnould/miniforge3/envs/sqldi/lib/python3.11/site-packages (from requests->chart_studio) (3.10)\n",
      "Requirement already satisfied: urllib3<3,>=1.21.1 in /Users/garnould/miniforge3/envs/sqldi/lib/python3.11/site-packages (from requests->chart_studio) (2.4.0)\n",
      "Requirement already satisfied: certifi>=2017.4.17 in /Users/garnould/miniforge3/envs/sqldi/lib/python3.11/site-packages (from requests->chart_studio) (2025.4.26)\n"
     ]
    },
    {
     "data": {
      "text/html": [
       "        <script type=\"text/javascript\">\n",
       "        window.PlotlyConfig = {MathJaxConfig: 'local'};\n",
       "        if (window.MathJax && window.MathJax.Hub && window.MathJax.Hub.Config) {window.MathJax.Hub.Config({SVG: {font: \"STIX-Web\"}});}\n",
       "        </script>\n",
       "        <script type=\"module\">import \"https://cdn.plot.ly/plotly-3.0.1.min\"</script>\n",
       "        "
      ]
     },
     "metadata": {},
     "output_type": "display_data"
    },
    {
     "name": "stdout",
     "output_type": "stream",
     "text": [
      "Collecting bar_chart_race\n",
      "  Downloading bar_chart_race-0.1.0-py3-none-any.whl.metadata (4.2 kB)\n",
      "Requirement already satisfied: pandas>=0.24 in /Users/garnould/miniforge3/envs/sqldi/lib/python3.11/site-packages (from bar_chart_race) (2.2.3)\n",
      "Requirement already satisfied: matplotlib>=3.1 in /Users/garnould/miniforge3/envs/sqldi/lib/python3.11/site-packages (from bar_chart_race) (3.10.3)\n",
      "Requirement already satisfied: contourpy>=1.0.1 in /Users/garnould/miniforge3/envs/sqldi/lib/python3.11/site-packages (from matplotlib>=3.1->bar_chart_race) (1.3.2)\n",
      "Requirement already satisfied: cycler>=0.10 in /Users/garnould/miniforge3/envs/sqldi/lib/python3.11/site-packages (from matplotlib>=3.1->bar_chart_race) (0.12.1)\n",
      "Requirement already satisfied: fonttools>=4.22.0 in /Users/garnould/miniforge3/envs/sqldi/lib/python3.11/site-packages (from matplotlib>=3.1->bar_chart_race) (4.58.0)\n",
      "Requirement already satisfied: kiwisolver>=1.3.1 in /Users/garnould/miniforge3/envs/sqldi/lib/python3.11/site-packages (from matplotlib>=3.1->bar_chart_race) (1.4.8)\n",
      "Requirement already satisfied: numpy>=1.23 in /Users/garnould/miniforge3/envs/sqldi/lib/python3.11/site-packages (from matplotlib>=3.1->bar_chart_race) (2.2.6)\n",
      "Requirement already satisfied: packaging>=20.0 in /Users/garnould/miniforge3/envs/sqldi/lib/python3.11/site-packages (from matplotlib>=3.1->bar_chart_race) (25.0)\n",
      "Requirement already satisfied: pillow>=8 in /Users/garnould/miniforge3/envs/sqldi/lib/python3.11/site-packages (from matplotlib>=3.1->bar_chart_race) (11.2.1)\n",
      "Requirement already satisfied: pyparsing>=2.3.1 in /Users/garnould/miniforge3/envs/sqldi/lib/python3.11/site-packages (from matplotlib>=3.1->bar_chart_race) (3.2.3)\n",
      "Requirement already satisfied: python-dateutil>=2.7 in /Users/garnould/miniforge3/envs/sqldi/lib/python3.11/site-packages (from matplotlib>=3.1->bar_chart_race) (2.9.0.post0)\n",
      "Requirement already satisfied: pytz>=2020.1 in /Users/garnould/miniforge3/envs/sqldi/lib/python3.11/site-packages (from pandas>=0.24->bar_chart_race) (2025.2)\n",
      "Requirement already satisfied: tzdata>=2022.7 in /Users/garnould/miniforge3/envs/sqldi/lib/python3.11/site-packages (from pandas>=0.24->bar_chart_race) (2025.2)\n",
      "Requirement already satisfied: six>=1.5 in /Users/garnould/miniforge3/envs/sqldi/lib/python3.11/site-packages (from python-dateutil>=2.7->matplotlib>=3.1->bar_chart_race) (1.17.0)\n",
      "Downloading bar_chart_race-0.1.0-py3-none-any.whl (156 kB)\n",
      "Installing collected packages: bar_chart_race\n",
      "Successfully installed bar_chart_race-0.1.0\n"
     ]
    }
   ],
   "source": [
    "# import the libraries you want to use\n",
    "\n",
    "import numpy as np \n",
    "import pandas as pd \n",
    "import dcor\n",
    "from sklearn.preprocessing import LabelEncoder\n",
    "from sklearn.preprocessing import StandardScaler\n",
    "import os\n",
    "\n",
    "# Visualisation libraries\n",
    "import matplotlib.pyplot as plt\n",
    "%matplotlib inline\n",
    "import seaborn as sns\n",
    "sns.set()\n",
    "import pycountry\n",
    "import plotly.express as px\n",
    "from plotly.offline import init_notebook_mode, iplot \n",
    "import plotly.graph_objs as go\n",
    "import plotly.offline as py\n",
    "from plotly.offline import download_plotlyjs,init_notebook_mode,plot,iplot\n",
    "!pip install chart_studio\n",
    "import chart_studio.plotly as py\n",
    "import cufflinks\n",
    "cufflinks.go_offline()\n",
    "cufflinks.set_config_file(world_readable=True, theme='pearl')\n",
    "#py.init_notebook_mode(connected=True)\n",
    "\n",
    "#Geographical Plotting\n",
    "import folium\n",
    "from folium import Choropleth, Circle, Marker\n",
    "from folium import plugins\n",
    "from folium.plugins import HeatMap, MarkerCluster\n",
    "\n",
    "#Racing Bar Chart\n",
    "!pip install bar_chart_race\n",
    "import bar_chart_race as bcr\n",
    "from IPython.display import HTML\n",
    "\n",
    "import nbformat \n",
    "\n",
    "# Increase the default plot size and set the color scheme\n",
    "plt.rcParams['figure.figsize'] = 8, 5\n",
    "plt.style.use(\"fivethirtyeight\")# for pretty graphs\n",
    "\n",
    "for dirname, _, filenames in os.walk('/kaggle/input'):\n",
    "    for filename in filenames:\n",
    "        print(os.path.join(dirname, filename))\n",
    "\n",
    "# Disable warnings \n",
    "# import warnings\n",
    "# warnings.filterwarnings('ignore')"
   ]
  },
  {
   "attachments": {},
   "cell_type": "markdown",
   "metadata": {},
   "source": [
    "### Step 3 Create and Populate a dataframe\n",
    "\n",
    "* a DataFrame is a 2-dimensional labeled data structure with columns of potentially different types.\n",
    "* It's conceptually the same as a Db2 table, but exists in the Python kernel for the data scientist to use"
   ]
  },
  {
   "cell_type": "code",
   "execution_count": 8,
   "metadata": {},
   "outputs": [
    {
     "ename": "ImportError",
     "evalue": "Using URI string without sqlalchemy installed.",
     "output_type": "error",
     "traceback": [
      "\u001b[31m---------------------------------------------------------------------------\u001b[39m",
      "\u001b[31mImportError\u001b[39m                               Traceback (most recent call last)",
      "\u001b[36mCell\u001b[39m\u001b[36m \u001b[39m\u001b[32mIn[8]\u001b[39m\u001b[32m, line 5\u001b[39m\n\u001b[32m      2\u001b[39m credentials = \u001b[33m\"\u001b[39m\u001b[33mibm_db_sa://WMLSCORS:vesna08a@10.3.58.61:448/RDBNDW00\u001b[39m\u001b[33m\"\u001b[39m\n\u001b[32m      4\u001b[39m \u001b[38;5;66;03m# read in your SQL query results using pandas\u001b[39;00m\n\u001b[32m----> \u001b[39m\u001b[32m5\u001b[39m dataframe = \u001b[43mpd\u001b[49m\u001b[43m.\u001b[49m\u001b[43mread_sql\u001b[49m\u001b[43m(\u001b[49m\u001b[33;43m\"\"\"\u001b[39;49m\n\u001b[32m      6\u001b[39m \u001b[33;43m            select species, island, bill_length_mm, bill_depth_mm, flipper_length_mm, body_mass_g, sex, year \u001b[39;49m\n\u001b[32m      7\u001b[39m \u001b[33;43m            from TSOLENK.PENGUINS_DATA\u001b[39;49m\n\u001b[32m      8\u001b[39m \u001b[33;43m            ORDER BY id\u001b[39;49m\n\u001b[32m      9\u001b[39m \u001b[33;43m            \u001b[39;49m\u001b[33;43m\"\"\"\u001b[39;49m\u001b[43m,\u001b[49m\u001b[43m \u001b[49m\u001b[43mcon\u001b[49m\u001b[43m \u001b[49m\u001b[43m=\u001b[49m\u001b[43m \u001b[49m\u001b[43mcredentials\u001b[49m\u001b[43m)\u001b[49m\n\u001b[32m     11\u001b[39m \u001b[38;5;66;03m# and save the original\u001b[39;00m\n\u001b[32m     12\u001b[39m original = dataframe.copy() \n",
      "\u001b[36mFile \u001b[39m\u001b[32m~/miniforge3/envs/sqldi/lib/python3.11/site-packages/pandas/io/sql.py:704\u001b[39m, in \u001b[36mread_sql\u001b[39m\u001b[34m(sql, con, index_col, coerce_float, params, parse_dates, columns, chunksize, dtype_backend, dtype)\u001b[39m\n\u001b[32m    701\u001b[39m     dtype_backend = \u001b[33m\"\u001b[39m\u001b[33mnumpy\u001b[39m\u001b[33m\"\u001b[39m  \u001b[38;5;66;03m# type: ignore[assignment]\u001b[39;00m\n\u001b[32m    702\u001b[39m \u001b[38;5;28;01massert\u001b[39;00m dtype_backend \u001b[38;5;129;01mis\u001b[39;00m \u001b[38;5;129;01mnot\u001b[39;00m lib.no_default\n\u001b[32m--> \u001b[39m\u001b[32m704\u001b[39m \u001b[38;5;28;01mwith\u001b[39;00m \u001b[43mpandasSQL_builder\u001b[49m\u001b[43m(\u001b[49m\u001b[43mcon\u001b[49m\u001b[43m)\u001b[49m \u001b[38;5;28;01mas\u001b[39;00m pandas_sql:\n\u001b[32m    705\u001b[39m     \u001b[38;5;28;01mif\u001b[39;00m \u001b[38;5;28misinstance\u001b[39m(pandas_sql, SQLiteDatabase):\n\u001b[32m    706\u001b[39m         \u001b[38;5;28;01mreturn\u001b[39;00m pandas_sql.read_query(\n\u001b[32m    707\u001b[39m             sql,\n\u001b[32m    708\u001b[39m             index_col=index_col,\n\u001b[32m   (...)\u001b[39m\u001b[32m    714\u001b[39m             dtype=dtype,\n\u001b[32m    715\u001b[39m         )\n",
      "\u001b[36mFile \u001b[39m\u001b[32m~/miniforge3/envs/sqldi/lib/python3.11/site-packages/pandas/io/sql.py:903\u001b[39m, in \u001b[36mpandasSQL_builder\u001b[39m\u001b[34m(con, schema, need_transaction)\u001b[39m\n\u001b[32m    900\u001b[39m sqlalchemy = import_optional_dependency(\u001b[33m\"\u001b[39m\u001b[33msqlalchemy\u001b[39m\u001b[33m\"\u001b[39m, errors=\u001b[33m\"\u001b[39m\u001b[33mignore\u001b[39m\u001b[33m\"\u001b[39m)\n\u001b[32m    902\u001b[39m \u001b[38;5;28;01mif\u001b[39;00m \u001b[38;5;28misinstance\u001b[39m(con, \u001b[38;5;28mstr\u001b[39m) \u001b[38;5;129;01mand\u001b[39;00m sqlalchemy \u001b[38;5;129;01mis\u001b[39;00m \u001b[38;5;28;01mNone\u001b[39;00m:\n\u001b[32m--> \u001b[39m\u001b[32m903\u001b[39m     \u001b[38;5;28;01mraise\u001b[39;00m \u001b[38;5;167;01mImportError\u001b[39;00m(\u001b[33m\"\u001b[39m\u001b[33mUsing URI string without sqlalchemy installed.\u001b[39m\u001b[33m\"\u001b[39m)\n\u001b[32m    905\u001b[39m \u001b[38;5;28;01mif\u001b[39;00m sqlalchemy \u001b[38;5;129;01mis\u001b[39;00m \u001b[38;5;129;01mnot\u001b[39;00m \u001b[38;5;28;01mNone\u001b[39;00m \u001b[38;5;129;01mand\u001b[39;00m \u001b[38;5;28misinstance\u001b[39m(con, (\u001b[38;5;28mstr\u001b[39m, sqlalchemy.engine.Connectable)):\n\u001b[32m    906\u001b[39m     \u001b[38;5;28;01mreturn\u001b[39;00m SQLDatabase(con, schema, need_transaction)\n",
      "\u001b[31mImportError\u001b[39m: Using URI string without sqlalchemy installed."
     ]
    }
   ],
   "source": [
    "# assign a variable that contains a string of your credentials\n",
    "credentials = \"ibm_db_sa://WMLSCORS:vesna08a@10.3.58.61:448/RDBNDW00\"\n",
    "\n",
    "# read in your SQL query results using pandas\n",
    "dataframe = pd.read_sql(\"\"\"\n",
    "            select species, island, bill_length_mm, bill_depth_mm, flipper_length_mm, body_mass_g, sex, year \n",
    "            from TSOLENK.PENGUINS_DATA\n",
    "            ORDER BY id\n",
    "            \"\"\", con = credentials)\n",
    "\n",
    "# and save the original\n",
    "original = dataframe.copy() \n",
    "\n",
    "# return your first ten rows\n",
    "dataframe.head(10)\n"
   ]
  },
  {
   "cell_type": "code",
   "execution_count": null,
   "metadata": {},
   "outputs": [],
   "source": [
    "# Understand the fields in the dataframe\n",
    "\n",
    "dataframe.info()\n"
   ]
  },
  {
   "cell_type": "code",
   "execution_count": null,
   "metadata": {},
   "outputs": [],
   "source": [
    "# Calculate some numercial average and distribution data\n",
    "\n",
    "dataframe.describe(include='all')"
   ]
  },
  {
   "attachments": {},
   "cell_type": "markdown",
   "metadata": {},
   "source": [
    "### Step 4 Start \"Data Wrangling\" with pandas\n",
    "\n",
    "Data Wrangling consists of 5 main activity areas:\n",
    "\n",
    "1. Data exploration — feature values, ranges, correlations, relationships...\n",
    "2. Dealing with missing values — various strategies\n",
    "3. Reshaping data — pivot tables, joins, grouping and aggregating\n",
    "4. Filtering data - selection, projection etc...\n",
    "5. Other — Making descriptive columns, element-wise conditional operations"
   ]
  },
  {
   "cell_type": "code",
   "execution_count": null,
   "metadata": {},
   "outputs": [],
   "source": [
    "# Count the number of each species in the labelled dataset\n",
    "\n",
    "dataframe['species'].value_counts()"
   ]
  },
  {
   "cell_type": "code",
   "execution_count": null,
   "metadata": {},
   "outputs": [],
   "source": [
    "# or represent the counts graphically\n",
    "\n",
    "dataframe['species'].value_counts().iplot(kind='bar')"
   ]
  },
  {
   "cell_type": "code",
   "execution_count": null,
   "metadata": {},
   "outputs": [],
   "source": [
    "# Create a filtered dataframe for exploring ranges of data values for different species of penguin\n",
    "\n",
    "df1 = dataframe[['species', 'bill_length_mm', 'bill_depth_mm','flipper_length_mm']]\n",
    "sns.boxplot(data=df1, width=0.5,fliersize=5)"
   ]
  },
  {
   "cell_type": "code",
   "execution_count": null,
   "metadata": {},
   "outputs": [],
   "source": [
    "# Now, focus on bill length by species and sex.\n",
    "\n",
    "def box(f):\n",
    "    sns.boxplot(y = f, x = 'species', hue = 'sex',data = dataframe)\n",
    "    plt.title(f)\n",
    "    plt.show() \n",
    "\n",
    "box('bill_length_mm')"
   ]
  },
  {
   "cell_type": "code",
   "execution_count": null,
   "metadata": {},
   "outputs": [],
   "source": [
    "# Each of the features are helpful in differentiating between species. Combining multiple features can expose stronger data patterns.\n",
    "\n",
    "sns.pairplot(df1, hue=\"species\", height=3,diag_kind=\"hist\")"
   ]
  },
  {
   "cell_type": "code",
   "execution_count": null,
   "metadata": {},
   "outputs": [],
   "source": [
    "# we can zoom in on particular pairplots\n",
    "\n",
    "sns.FacetGrid(df1, hue=\"species\", height=8) \\\n",
    "   .map(plt.scatter, \"bill_length_mm\", \"flipper_length_mm\") \\\n",
    "   .add_legend()"
   ]
  },
  {
   "cell_type": "code",
   "execution_count": null,
   "metadata": {},
   "outputs": [],
   "source": [
    "# another visualisation tool is the violin plot\n",
    "\n",
    "ax = sns.violinplot(x=\"species\", y=\"flipper_length_mm\", data=df1,height=8)"
   ]
  },
  {
   "cell_type": "code",
   "execution_count": null,
   "metadata": {},
   "outputs": [],
   "source": [
    "# and we can plot distribution curves\n",
    "\n",
    "sns.FacetGrid(df1, hue=\"species\", height=6,) \\\n",
    "   .map(sns.kdeplot, \"flipper_length_mm\",fill=True) \\\n",
    "   .add_legend()"
   ]
  },
  {
   "attachments": {},
   "cell_type": "markdown",
   "metadata": {},
   "source": [
    "### Step 5 : Cleaning the Data\n",
    "\n",
    "The previous section showed a very small subset of data wrangling techniques to allow the data scientist to understand the dataset, see patterns in the data, and start to form ideas about which model types may be best suited to the task of creating a classification model.\n",
    "\n",
    "Before fitting and training a model, a data pipeline should be built to cleanse and transform the data into a suitable form. Data cleansing work may include\n",
    "* identifying null or empty values, and deciding on a technique to handle them\n",
    "* eliminating data features that don't have a big impact on the classification of records\n",
    "* converting string datatypes into numerical types\n",
    "* Normalising the data values into ranges with good distribution of values\n",
    "etc..."
   ]
  },
  {
   "cell_type": "code",
   "execution_count": null,
   "metadata": {},
   "outputs": [],
   "source": [
    "# Import the libraries for 5 model types\n",
    "\n",
    "from sklearn.model_selection import train_test_split, KFold, cross_val_score\n",
    "from sklearn.metrics import accuracy_score, f1_score, recall_score, precision_score, confusion_matrix\n",
    "\n",
    "from sklearn.linear_model import LogisticRegression\n",
    "from sklearn.tree import DecisionTreeClassifier\n",
    "from sklearn.ensemble import RandomForestClassifier\n",
    "from sklearn.neighbors import KNeighborsClassifier\n",
    "from sklearn.svm import SVC"
   ]
  },
  {
   "cell_type": "code",
   "execution_count": null,
   "metadata": {},
   "outputs": [],
   "source": [
    "# Eyeball the first 10 rows. We can see nulls and missing values.\n",
    "\n",
    "dataframe.head(10)"
   ]
  },
  {
   "cell_type": "code",
   "execution_count": null,
   "metadata": {},
   "outputs": [],
   "source": [
    "# Check the counts of Null values\n",
    "\n",
    "dataframe.isnull().sum()"
   ]
  },
  {
   "cell_type": "code",
   "execution_count": null,
   "metadata": {},
   "outputs": [],
   "source": [
    "# Create a new dataframe and choose statistical means for missing values\n",
    "# in the example below we just choose the statistical mean value for the 4 measurement data features, and the modal value for sex data feature.\n",
    "\n",
    "new_df = original.copy()\n",
    "\n",
    "new_df['bill_length_mm'].fillna(np.mean(original['bill_length_mm']), inplace = True)\n",
    "new_df['bill_depth_mm'].fillna(np.mean(original['bill_depth_mm']), inplace = True)\n",
    "new_df['flipper_length_mm'].fillna(np.mean(original['flipper_length_mm']), inplace = True)\n",
    "new_df['body_mass_g'].fillna(np.mean(original['body_mass_g']), inplace = True)\n",
    "new_df['sex'].fillna(original['sex'].mode()[0], inplace = True)"
   ]
  },
  {
   "cell_type": "code",
   "execution_count": null,
   "metadata": {},
   "outputs": [],
   "source": [
    "# Verify that we have assigned values to all the missing data features\n",
    "\n",
    "new_df.head(10)"
   ]
  },
  {
   "cell_type": "code",
   "execution_count": null,
   "metadata": {},
   "outputs": [],
   "source": [
    "# and check that the null values are missing\n",
    "\n",
    "new_df.isnull().sum()"
   ]
  },
  {
   "cell_type": "code",
   "execution_count": null,
   "metadata": {},
   "outputs": [],
   "source": [
    "# skewness is a statistical measure of asymmetry from a normal distribution. Skewness between -0.5 and +0.5 is considered symmetrical.\n",
    "# this dataset does not suffer from skewing\n",
    "\n",
    "print('Skewness of numeric variables')\n",
    "print('-' * 35)\n",
    "\n",
    "for i in new_df.select_dtypes(['int64', 'float64']).columns.tolist():\n",
    "    print(i, ' : ',new_df[i].skew())"
   ]
  },
  {
   "cell_type": "code",
   "execution_count": null,
   "metadata": {},
   "outputs": [],
   "source": [
    "# Now take a look at the range of actual values for the data features.new_df\n",
    "\n",
    "new_df.describe()"
   ]
  },
  {
   "cell_type": "code",
   "execution_count": null,
   "metadata": {},
   "outputs": [],
   "source": [
    "# the goal of data normalization is to ensure that data is similar across all records, to make the model more efficient\n",
    "# The function below is used to normalse the numerical data features between the values of -1 and +1.\n",
    "# See how it compresses the data values. (aka \"squishification\")\n",
    "\n",
    "from sklearn.preprocessing import MinMaxScaler\n",
    "mms = MinMaxScaler()\n",
    "\n",
    "new_df['bill_length_mm'] = mms.fit_transform(new_df['bill_length_mm'].values.reshape(-1, 1))\n",
    "new_df['bill_depth_mm'] = mms.fit_transform(new_df['bill_depth_mm'].values.reshape(-1, 1))\n",
    "new_df['flipper_length_mm'] = mms.fit_transform(new_df['flipper_length_mm'].values.reshape(-1, 1))\n",
    "new_df['body_mass_g'] = mms.fit_transform(new_df['body_mass_g'].values.reshape(-1, 1))\n",
    "new_df['sex'].fillna(original['sex'].mode()[0], inplace = True)\n",
    "\n",
    "new_df.describe()"
   ]
  },
  {
   "cell_type": "code",
   "execution_count": null,
   "metadata": {},
   "outputs": [],
   "source": [
    "new_df.head()"
   ]
  },
  {
   "cell_type": "code",
   "execution_count": null,
   "metadata": {},
   "outputs": [],
   "source": [
    "# Now lets create dummy values for sex and island fields\n",
    "\n",
    "new_df_dummy = pd.get_dummies(new_df, columns = ['sex', 'island'], drop_first = True) \n",
    "\n",
    "new_df_dummy.head(10)\n",
    "\n",
    "\n"
   ]
  },
  {
   "cell_type": "code",
   "execution_count": null,
   "metadata": {},
   "outputs": [],
   "source": [
    "# Now lets assign numerical values for the 3 species. First we check the unique text values that exist.\n",
    "\n",
    "new_df_dummy['species'].unique()"
   ]
  },
  {
   "cell_type": "code",
   "execution_count": null,
   "metadata": {},
   "outputs": [],
   "source": [
    "#Next, we replace those values with numerical surrogate values.\n",
    "\n",
    "new_df_dummy['species'].replace(['Adelie                        ',\n",
    "                                  'Chinstrap                     ',\n",
    "                                    'Gentoo                        '],\n",
    "                                     [0, 1, 2], inplace = True)\n",
    "\n",
    "new_df_dummy.head(10)"
   ]
  },
  {
   "cell_type": "code",
   "execution_count": null,
   "metadata": {},
   "outputs": [],
   "source": [
    "\n",
    "\n",
    "sns.heatmap(new_df_dummy.corr(), annot = True, cmap = 'Blues')\n",
    "\n"
   ]
  },
  {
   "cell_type": "code",
   "execution_count": null,
   "metadata": {},
   "outputs": [],
   "source": [
    "# Create 2 sets of data, with and without the label\n",
    "\n",
    "X = new_df_dummy.drop(columns = ['species'])\n",
    "Y = new_df_dummy['species']"
   ]
  },
  {
   "cell_type": "code",
   "execution_count": null,
   "metadata": {},
   "outputs": [],
   "source": [
    "# Split the Data 75% training and 25% test\n",
    "X_train, X_test, Y_train, Y_test = train_test_split(X, Y, test_size = 0.25, random_state = 123)"
   ]
  },
  {
   "cell_type": "code",
   "execution_count": null,
   "metadata": {},
   "outputs": [],
   "source": [
    "# Try with a Logical Regression Model\n",
    "\n",
    "LR = LogisticRegression()\n",
    "LR.fit(X_train, Y_train)\n",
    "\n",
    "pred = LR.predict(X_test)"
   ]
  },
  {
   "cell_type": "code",
   "execution_count": null,
   "metadata": {},
   "outputs": [],
   "source": [
    "# Check the Accuracy and F1 Score of the trained model\n",
    "\n",
    "print('Accuracy : ', accuracy_score(Y_test, pred))\n",
    "print('F1 Score : ', f1_score(Y_test, pred, average = 'weighted')) \n",
    "print('Precision : ', precision_score(Y_test, pred , average = 'weighted'))\n",
    "print('Recall : ', recall_score(Y_test, pred, average = 'weighted'))"
   ]
  },
  {
   "cell_type": "code",
   "execution_count": null,
   "metadata": {},
   "outputs": [],
   "source": [
    "# Try some other candidate models \n",
    "\n",
    "models = []\n",
    "models.append(('LR', LogisticRegression()))\n",
    "models.append(('DT', DecisionTreeClassifier()))\n",
    "models.append(('RF', RandomForestClassifier()))\n",
    "models.append(('kNN', KNeighborsClassifier()))\n",
    "models.append(('SVC', SVC()))"
   ]
  }
 ],
 "metadata": {
  "kernelspec": {
   "display_name": "sqldi",
   "language": "python",
   "name": "python3"
  },
  "language_info": {
   "codemirror_mode": {
    "name": "ipython",
    "version": 3
   },
   "file_extension": ".py",
   "mimetype": "text/x-python",
   "name": "python",
   "nbconvert_exporter": "python",
   "pygments_lexer": "ipython3",
   "version": "3.11.12"
  },
  "orig_nbformat": 4
 },
 "nbformat": 4,
 "nbformat_minor": 2
}
