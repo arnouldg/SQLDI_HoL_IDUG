{
 "cells": [
  {
   "attachments": {},
   "cell_type": "markdown",
   "metadata": {},
   "source": [
    "### Notebook Exploring SQL Data Insights"
   ]
  },
  {
   "attachments": {},
   "cell_type": "markdown",
   "metadata": {},
   "source": [
    "![TestImage](img/sqldi.JPG)"
   ]
  },
  {
   "cell_type": "code",
   "execution_count": null,
   "metadata": {},
   "outputs": [],
   "source": [
    "pip install ipython-sql==0.4.1 ibm_db sqlalchemy==1.4.47 ibm_db_sa"
   ]
  },
  {
   "cell_type": "code",
   "execution_count": null,
   "metadata": {},
   "outputs": [],
   "source": [
    "import sys,os,os.path\n",
    "os.environ['IBM_DB_HOME']='C:\\Program Files\\IBM\\SQLLIB'"
   ]
  },
  {
   "cell_type": "code",
   "execution_count": null,
   "metadata": {},
   "outputs": [],
   "source": [
    "import ibm_db \n",
    "import ibm_db_sa \n",
    "import sqlalchemy "
   ]
  },
  {
   "cell_type": "code",
   "execution_count": null,
   "metadata": {},
   "outputs": [],
   "source": [
    "%load_ext sql"
   ]
  },
  {
   "cell_type": "code",
   "execution_count": null,
   "metadata": {},
   "outputs": [],
   "source": [
    "%sql ibm_db_sa://IBMUSER:SYS1@wg31.washington.ibm.com:5045/DALLASD"
   ]
  },
  {
   "cell_type": "code",
   "execution_count": null,
   "metadata": {},
   "outputs": [],
   "source": [
    "%sql select * from explore.penguins fetch first 10 rows only"
   ]
  },
  {
   "cell_type": "code",
   "execution_count": null,
   "metadata": {},
   "outputs": [],
   "source": [
    "# Lets not cheat - we can't give the classification answers to SQL DI !\n",
    "\n",
    "%sql select * from explore.penguins_unc fetch first 10 rows only"
   ]
  },
  {
   "attachments": {},
   "cell_type": "markdown",
   "metadata": {},
   "source": [
    "### Now, Open the SQL Data Insights Web UI \n",
    "\n",
    "* and train the Db2 View \"explore.penguins_unc\"."
   ]
  },
  {
   "cell_type": "code",
   "execution_count": null,
   "metadata": {},
   "outputs": [],
   "source": [
    "# We can score the similarity between any two Penguins. \n",
    "# Lets see how Penguin #11 compares to the other Penguins\n",
    "\n",
    "# SELECT U.*, decimal(AI_SIMILARITY(ID,11),5,2) AS SIMILARITY \n",
    "# FROM EXPLORE.PENGUINS_UNC U fetch first 30 rows only\n",
    "\n",
    "%sql SELECT U.*, decimal(AI_SIMILARITY(ID,11),5,2) AS SIMILARITY FROM EXPLORE.PENGUINS_UNC U fetch first 30 rows only"
   ]
  },
  {
   "cell_type": "code",
   "execution_count": null,
   "metadata": {},
   "outputs": [],
   "source": [
    "# Average Similarity between Penguin # 11 (an Adelie) and all other Adelie Penguins\n",
    "# =================================================================================\n",
    "# with V1 as (SELECT U.*, decimal(AI_SIMILARITY(ID,11),5,2) AS SIMILARITY \n",
    "# FROM EXPLORE.PENGUINS_UNC U WHERE U.ID between 1 and 152 ) \n",
    "# select AVG(similarity) from V1 ;\n",
    "\n",
    "%sql with V1 as (SELECT U.*, decimal(AI_SIMILARITY(ID,11),5,2) AS SIMILARITY FROM EXPLORE.PENGUINS_UNC U WHERE U.ID between 1 and 152 ) select AVG(similarity) from V1 ;\n"
   ]
  },
  {
   "cell_type": "code",
   "execution_count": null,
   "metadata": {},
   "outputs": [],
   "source": [
    "\n",
    "# Average Similarity between Penguin # 11 (an Adelie) and all Gentoo Penguins\n",
    "# ===========================================================================\n",
    "# with V1 as (SELECT U.*, decimal(AI_SIMILARITY(ID,11),5,2) AS SIMILARITY \n",
    "# FROM EXPLORE.PENGUINS_UNC U WHERE U.ID between 153 and 276 ) \n",
    "# select AVG(similarity) from V1 ;\n",
    "\n",
    "%sql with V1 as (SELECT U.*, decimal(AI_SIMILARITY(ID,11),5,2) AS SIMILARITY FROM EXPLORE.PENGUINS_UNC U WHERE U.ID between 153 and 276 ) select AVG(similarity) from V1 ;"
   ]
  },
  {
   "cell_type": "code",
   "execution_count": null,
   "metadata": {},
   "outputs": [],
   "source": [
    "# Average Similarity Between Penguin # 11 (an Adelie) and all Chinstrap Penguins\n",
    "# ==============================================================================\n",
    "# with V1 as (SELECT U.*, decimal(AI_SIMILARITY(ID,11),5,2) AS SIMILARITY \n",
    "# FROM EXPLORE.PENGUINS_UNC U WHERE U.ID between 277 and 344 ) \n",
    "# select AVG(similarity) from V1 ;\n",
    "\n",
    "%sql with V1 as (SELECT U.*, decimal(AI_SIMILARITY(ID,11),5,2) AS SIMILARITY FROM EXPLORE.PENGUINS_UNC U WHERE U.ID between 277 and 344 ) select AVG(similarity) from V1 ;\n"
   ]
  },
  {
   "cell_type": "code",
   "execution_count": null,
   "metadata": {},
   "outputs": [],
   "source": [
    "# Average Similarity Between Penguin # 169 (a Gentoo) and all Adelie Penguins\n",
    "\n",
    "%sql with V1 as (SELECT U.*, decimal(AI_SIMILARITY(ID,162),5,2) AS SIMILARITY FROM EXPLORE.PENGUINS_UNC U WHERE U.ID between 1 and 152 ) select AVG(similarity) from V1 ;"
   ]
  },
  {
   "cell_type": "code",
   "execution_count": null,
   "metadata": {},
   "outputs": [],
   "source": [
    "# Average Similarity Between Penguin # 169 (a Gentoo) and all other Gentoo Penguins\n",
    "\n",
    "%sql with V1 as (SELECT U.*, decimal(AI_SIMILARITY(ID,169),5,2) AS SIMILARITY FROM EXPLORE.PENGUINS_UNC U WHERE U.ID between 153 and 276 ) select AVG(similarity) from V1 ;"
   ]
  },
  {
   "cell_type": "code",
   "execution_count": null,
   "metadata": {},
   "outputs": [],
   "source": [
    "# Average Similarity Between Between Penguin # 169 (a Gentoo) and all Chinstrap Penguins\n",
    "\n",
    "%sql with V1 as (SELECT U.*, decimal(AI_SIMILARITY(ID,169),5,2) AS SIMILARITY FROM EXPLORE.PENGUINS_UNC U WHERE U.ID between 277 and 344 ) select AVG(similarity) from V1 ;"
   ]
  },
  {
   "attachments": {},
   "cell_type": "markdown",
   "metadata": {},
   "source": [
    "### Pause and Reflect\n",
    "\n",
    "Without using \n",
    "* any subject matter knowledge of Penguins or Zoo-ology\n",
    "* any data science expertise\n",
    "\n",
    "SQL Data Insights can differentiate between different Penguins using simple SQL queries.\n",
    "\n",
    "It can do the same for customer and transaction data....."
   ]
  },
  {
   "cell_type": "code",
   "execution_count": null,
   "metadata": {},
   "outputs": [],
   "source": [
    "# Take a look at the Customer Churn sample dataset\n",
    "\n",
    "%sql select * from dsnaidb.churn fetch first 10 rows only"
   ]
  },
  {
   "cell_type": "code",
   "execution_count": null,
   "metadata": {},
   "outputs": [],
   "source": [
    "# Focus on Customer who have churned\n",
    "\n",
    "%sql select churn, count(*) from dsnaidb.churn group by churn"
   ]
  },
  {
   "attachments": {},
   "cell_type": "markdown",
   "metadata": {},
   "source": [
    "Use the SQLDI Data Analysis Dashboard to see which columns have most bearing on the \n",
    "\n",
    "![TestImage](img/discriminator.JPG)"
   ]
  },
  {
   "cell_type": "code",
   "execution_count": null,
   "metadata": {},
   "outputs": [],
   "source": [
    "# Take a look at a \"typical\" churned client the Customer Churn sample dataset\n",
    "\n",
    "%sql select * from dsnaidb.churn where CUSTOMERID = '3668-QPYBK'"
   ]
  },
  {
   "cell_type": "code",
   "execution_count": null,
   "metadata": {},
   "outputs": [],
   "source": [
    "# Take a look at the Customer Churn sample dataset\n",
    "# ================================================\n",
    "# SELECT * FROM  \n",
    "# (SELECT C.customerid, AI_SIMILARITY(CUSTOMERID, '3668-QPYBK') AS SIMILARITY, c.tenure, c.phoneservice, \n",
    "# c.internetservice, c.contract, c.paymentmethod, c.monthlycharges, c.totalcharges \n",
    "# FROM DSNAIDB.CHURN C WHERE CUSTOMERID <> '3668-QPYBK' AND CHURN = 'No' ) \n",
    "# WHERE SIMILARITY > 0.5 \n",
    "# ORDER BY SIMILARITY DESC FETCH FIRST 20 ROWS ONLY;\n",
    "\n",
    "%sql SELECT * FROM  (SELECT C.customerid, AI_SIMILARITY(CUSTOMERID, '3668-QPYBK') AS SIMILARITY, c.tenure, c.phoneservice, c.internetservice, c.contract, c.paymentmethod, c.monthlycharges, c.totalcharges FROM DSNAIDB.CHURN C WHERE CUSTOMERID <> '3668-QPYBK' AND CHURN = 'No' ) WHERE SIMILARITY > 0.5 ORDER BY SIMILARITY DESC FETCH FIRST 20 ROWS ONLY;"
   ]
  }
 ],
 "metadata": {
  "kernelspec": {
   "display_name": "cw01",
   "language": "python",
   "name": "python3"
  },
  "language_info": {
   "codemirror_mode": {
    "name": "ipython",
    "version": 3
   },
   "file_extension": ".py",
   "mimetype": "text/x-python",
   "name": "python",
   "nbconvert_exporter": "python",
   "pygments_lexer": "ipython3",
   "version": "3.11.3"
  },
  "orig_nbformat": 4
 },
 "nbformat": 4,
 "nbformat_minor": 2
}
